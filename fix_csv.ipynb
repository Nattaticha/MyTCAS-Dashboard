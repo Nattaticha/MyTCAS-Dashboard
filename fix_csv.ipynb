{
 "cells": [
  {
   "cell_type": "code",
   "execution_count": 3,
   "id": "276033f4",
   "metadata": {},
   "outputs": [],
   "source": [
    "import pandas as pd\n",
    "\n",
    "# โหลดไฟล์ CSV ทั้งสอง\n",
    "df1 = pd.read_csv(\"tcas_search.csv\", header=None)\n",
    "df2 = pd.read_csv(\"tcas_data.csv\", header=None)\n",
    "\n",
    "# หาจำนวนแถวสูงสุด\n",
    "max_rows = max(len(df1), len(df2))\n",
    "\n",
    "# ตัดให้เท่ากันโดยลบแถวส่วนเกิน\n",
    "df1_cut = df1.iloc[:max_rows].copy()\n",
    "df2_cut = df2.iloc[:max_rows].copy()\n",
    "\n",
    "# เติมแถวให้น้อยกว่ามีขนาดเท่ากันกับแถวสูงสุด (เพื่อให้ concat ได้ตรง ๆ)\n",
    "if len(df1_cut) < max_rows:\n",
    "    df1_cut = pd.concat([df1_cut, pd.DataFrame([[]]*(max_rows - len(df1_cut)))], ignore_index=True)\n",
    "if len(df2_cut) < max_rows:\n",
    "    df2_cut = pd.concat([df2_cut, pd.DataFrame([[]]*(max_rows - len(df2_cut)))], ignore_index=True)\n",
    "\n",
    "# รวมคอลัมน์\n",
    "combined = pd.concat([df1_cut.reset_index(drop=True), df2_cut.reset_index(drop=True)], axis=1)\n",
    "\n",
    "# บันทึกเป็นไฟล์ CSV ใหม่\n",
    "combined.to_csv(\"combined.csv\", index=False, header=False)\n"
   ]
  },
  {
   "cell_type": "code",
   "execution_count": 7,
   "id": "9823baa3",
   "metadata": {},
   "outputs": [],
   "source": [
    "import pandas as pd\n",
    "\n",
    "# โหลดไฟล์ CSV\n",
    "df = pd.read_csv(\"combined.csv\")\n",
    "\n",
    "# รายชื่อคอลัมน์ที่ต้องการลบ\n",
    "columns_to_drop = [\n",
    "    'ค่าเทอม',\n",
    "    'ชื่อหลักสูตรภาษาอังกฤษ',\n",
    "    'อัตราการสำเร็จการศึกษา',\n",
    "    'รอบ 1 Portfolio',\n",
    "    'รอบ 2 Quota',\n",
    "    'รอบ 3 Admission',\n",
    "    'รอบ 4 Direct Admission',\n",
    "    'ค่ามัธยฐานเงินเดือน',\n",
    "    'อัตราการได้งานทำ',\n",
    "    'สาขาวิชา',\n",
    "    'URL',\n",
    "    'หลักสูตร',\n",
    "    'Unnamed: 11'\n",
    "]\n",
    "\n",
    "# ลบคอลัมน์\n",
    "df_cleaned = df.drop(columns=columns_to_drop, errors='ignore')\n",
    "\n",
    "# บันทึกไฟล์ใหม่\n",
    "df_cleaned.to_csv(\"cleaned_file.csv\", index=False)\n"
   ]
  },
  {
   "cell_type": "code",
   "execution_count": 12,
   "id": "679bb504",
   "metadata": {},
   "outputs": [],
   "source": [
    "import pandas as pd\n",
    "\n",
    "# โหลดไฟล์ต้นฉบับ\n",
    "df = pd.read_csv(\"cleaned_file.csv\")\n",
    "\n",
    "# เลือกเฉพาะคอลัมน์ที่ต้องการ\n",
    "selected_columns = ['มหาวิทยาลัย', 'Keyword', 'ค่าใช้จ่าย','ประเภทหลักสูตร']\n",
    "df_selected = df[selected_columns]\n",
    "\n",
    "# บันทึกเป็นไฟล์ใหม่\n",
    "df_selected.to_csv(\"selected_columns.csv\", index=False)\n",
    "\n"
   ]
  },
  {
   "cell_type": "code",
   "execution_count": null,
   "id": "808d73a1",
   "metadata": {},
   "outputs": [],
   "source": [
    "import pandas as pd\n",
    "import re\n",
    "\n",
    "# โหลดไฟล์\n",
    "df = pd.read_csv(\"cleaned_file.csv\")\n",
    "\n",
    "# เลือกเฉพาะคอลัมน์ที่ต้องการ\n",
    "df_selected = df[['มหาวิทยาลัย', 'Keyword', 'ค่าใช้จ่าย','ประเภทหลักสูตร']].copy()\n",
    "\n",
    "# ทำความสะอาดค่าใช้จ่าย: ลบตัวอักษรทั้งหมด เหลือเฉพาะตัวเลขกับจุด/ลูกน้ำ\n",
    "def extract_numeric(text):\n",
    "    if pd.isna(text):\n",
    "        return ''\n",
    "    # ดึงเฉพาะตัวเลข ลูกน้ำ จุด (เช่น \"25,500.75\")\n",
    "    cleaned = re.findall(r'[\\d.,]+', str(text))\n",
    "    return ' '.join(cleaned)\n",
    "\n",
    "df_selected['ค่าใช้จ่าย'] = df_selected['ค่าใช้จ่าย'].apply(extract_numeric)\n",
    "\n",
    "# บันทึกผลลัพธ์ลงไฟล์ใหม่\n",
    "df_selected.to_csv(\"cleaned_cost_only.csv\", index=False)\n"
   ]
  }
 ],
 "metadata": {
  "kernelspec": {
   "display_name": "venv",
   "language": "python",
   "name": "python3"
  },
  "language_info": {
   "codemirror_mode": {
    "name": "ipython",
    "version": 3
   },
   "file_extension": ".py",
   "mimetype": "text/x-python",
   "name": "python",
   "nbconvert_exporter": "python",
   "pygments_lexer": "ipython3",
   "version": "3.13.5"
  }
 },
 "nbformat": 4,
 "nbformat_minor": 5
}
